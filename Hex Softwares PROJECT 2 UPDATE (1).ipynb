{
 "cells": [
  {
   "cell_type": "markdown",
   "id": "ff3eb0c8",
   "metadata": {},
   "source": [
    "## HEXSOFTWARES PROJECT  2"
   ]
  },
  {
   "cell_type": "markdown",
   "id": "6ab49271",
   "metadata": {},
   "source": [
    "## Simple Linear Regression on Housing Prices\n",
    "\n",
    "## Task:\n",
    "\n",
    "Use a housing prices dataset (like the Boston Housing dataset).\n",
    "Perform data preprocessing, including feature selection and\n",
    "normalization.\n",
    "\n",
    "Build a linear regression model to predict house prices based on\n",
    "features like the number of rooms, square footage, etc."
   ]
  },
  {
   "cell_type": "markdown",
   "id": "b991d9be",
   "metadata": {},
   "source": [
    "## The database that I am using on this notebook is taken from Kaggle \" Australian Housing Prices \" by By Jeff (The Devastator · Updated 2 years ago)"
   ]
  },
  {
   "cell_type": "markdown",
   "id": "4ba4b80d",
   "metadata": {},
   "source": [
    "## Imports"
   ]
  },
  {
   "cell_type": "code",
   "execution_count": 1,
   "id": "324ac589",
   "metadata": {},
   "outputs": [],
   "source": [
    "import pandas as pd\n",
    "import numpy as np\n",
    "import matplotlib.pyplot as plt\n",
    "import seaborn as sns\n",
    "from sklearn.model_selection import train_test_split\n",
    "from sklearn.linear_model import LinearRegression\n",
    "from sklearn.metrics import mean_squared_error, r2_score\n"
   ]
  },
  {
   "cell_type": "code",
   "execution_count": 7,
   "id": "195c309a",
   "metadata": {},
   "outputs": [],
   "source": [
    "import os\n",
    "import shutil\n",
    "\n",
    "# Define the directory where kaggle.json should be placed\n",
    "kaggle_dir = os.path.join(os.path.expanduser('~'), '.kaggle')\n",
    "os.makedirs(kaggle_dir, exist_ok=True)\n",
    "\n",
    "# Move kaggle.json to the .kaggle directory\n",
    "shutil.move(r\"C:\\Users\\princ\\anaconda3\\Lib\\site-packages\\pip\\_internal\\metadata\\_json.py\", os.path.join(kaggle_dir, 'kaggle.json'))\n",
    "\n",
    "# Set permissions for the kaggle.json file\n",
    "os.chmod(os.path.join(kaggle_dir, 'kaggle.json'), 0o600)\n"
   ]
  },
  {
   "cell_type": "code",
   "execution_count": null,
   "id": "97fd0239",
   "metadata": {},
   "outputs": [],
   "source": [
    "from kaggle.api.kaggle_api_extended import KaggleApi\n",
    "\n",
    "api = KaggleApi()\n",
    "api.authenticate()\n",
    "\n",
    "api.dataset_download_files(\"thedevastator/australian-housing-data-1000-properties-sampled\", path='.', unzip=True)\n"
   ]
  },
  {
   "cell_type": "code",
   "execution_count": 9,
   "id": "b63b3e8a",
   "metadata": {
    "scrolled": true
   },
   "outputs": [
    {
     "name": "stdout",
     "output_type": "stream",
     "text": [
      "   index      TID          breadcrumb  \\\n",
      "0      0  1350988  Buy>NT>DARWIN CITY   \n",
      "1      1  1350989  Buy>NT>DARWIN CITY   \n",
      "2      2  1350990  Buy>NT>DARWIN CITY   \n",
      "3      3  1350991  Buy>NT>DARWIN CITY   \n",
      "4      4  1350992  Buy>NT>DARWIN CITY   \n",
      "\n",
      "                                       category_name property_type  \\\n",
      "0  Real Estate & Property for sale in DARWIN CITY...         House   \n",
      "1  Real Estate & Property for sale in DARWIN CITY...     Apartment   \n",
      "2  Real Estate & Property for sale in DARWIN CITY...          Unit   \n",
      "3  Real Estate & Property for sale in DARWIN CITY...         House   \n",
      "4  Real Estate & Property for sale in DARWIN CITY...          Unit   \n",
      "\n",
      "  building_size land_size preferred_size           open_date  \\\n",
      "0           NaN       NaN            NaN   Added 2 hours ago   \n",
      "1         171m²       NaN          171m²   Added 7 hours ago   \n",
      "2           NaN       NaN            NaN  Added 22 hours ago   \n",
      "3           NaN       NaN            NaN     Added yesterday   \n",
      "4         201m²       NaN          201m²     Added yesterday   \n",
      "\n",
      "                                    listing_agency  ... state  zip_code  \\\n",
      "0                      Professionals - DARWIN CITY  ...    NT       800   \n",
      "1  Nick Mousellis Real Estate - Eview Group Member  ...    NT       800   \n",
      "2                Habitat Real Estate - THE GARDENS  ...    NT       800   \n",
      "3                           Ray White - NIGHTCLIFF  ...    NT       800   \n",
      "4              Carol Need Real Estate - Fannie Bay  ...    NT       800   \n",
      "\n",
      "          phone latitude longitude product_depth bedroom_count bathroom_count  \\\n",
      "0  08 8941 8289      NaN       NaN      premiere           2.0            1.0   \n",
      "1    0411724000      NaN       NaN      premiere           3.0            2.0   \n",
      "2  08 8981 0080      NaN       NaN      premiere           2.0            1.0   \n",
      "3  08 8982 2403      NaN       NaN      premiere           1.0            1.0   \n",
      "4    0418885966      NaN       NaN      premiere           3.0            2.0   \n",
      "\n",
      "   parking_count              RunDate  \n",
      "0            1.0  2022-05-27 15:54:05  \n",
      "1            2.0  2022-05-27 15:54:05  \n",
      "2            1.0  2022-05-27 15:54:05  \n",
      "3            0.0  2022-05-27 15:54:05  \n",
      "4            2.0  2022-05-27 15:54:05  \n",
      "\n",
      "[5 rows x 27 columns]\n"
     ]
    }
   ],
   "source": [
    "import pandas as pd\n",
    "\n",
    "# Load the data\n",
    "housing_data = pd.read_csv(\"RealEstateAU_1000_Samples.csv\")\n",
    "\n",
    "# Display the first few rows\n",
    "print(housing_data.head())\n"
   ]
  },
  {
   "cell_type": "markdown",
   "id": "c84e364e",
   "metadata": {},
   "source": [
    "## Data Cleaning "
   ]
  },
  {
   "cell_type": "code",
   "execution_count": 25,
   "id": "32c22bef",
   "metadata": {},
   "outputs": [
    {
     "name": "stdout",
     "output_type": "stream",
     "text": [
      "index                0\n",
      "TID                  0\n",
      "breadcrumb           0\n",
      "category_name        0\n",
      "property_type        0\n",
      "building_size        0\n",
      "land_size          357\n",
      "preferred_size     296\n",
      "open_date          596\n",
      "listing_agency       0\n",
      "price                0\n",
      "location_number      0\n",
      "location_type        0\n",
      "location_name        0\n",
      "address              8\n",
      "address_1            8\n",
      "city                 0\n",
      "state                0\n",
      "zip_code             0\n",
      "phone                0\n",
      "latitude           754\n",
      "longitude          754\n",
      "product_depth        0\n",
      "bedroom_count        0\n",
      "bathroom_count       0\n",
      "parking_count        0\n",
      "RunDate              0\n",
      "dtype: int64\n",
      "   index      TID          breadcrumb  \\\n",
      "0      0  1350988  Buy>NT>DARWIN CITY   \n",
      "1      1  1350989  Buy>NT>DARWIN CITY   \n",
      "2      2  1350990  Buy>NT>DARWIN CITY   \n",
      "3      3  1350991  Buy>NT>DARWIN CITY   \n",
      "4      4  1350992  Buy>NT>DARWIN CITY   \n",
      "\n",
      "                                       category_name property_type  \\\n",
      "0  Real Estate & Property for sale in DARWIN CITY...         House   \n",
      "1  Real Estate & Property for sale in DARWIN CITY...     Apartment   \n",
      "2  Real Estate & Property for sale in DARWIN CITY...          Unit   \n",
      "3  Real Estate & Property for sale in DARWIN CITY...         House   \n",
      "4  Real Estate & Property for sale in DARWIN CITY...          Unit   \n",
      "\n",
      "   building_size land_size preferred_size           open_date  \\\n",
      "0     178.182143       NaN            NaN   Added 2 hours ago   \n",
      "1     171.000000       NaN          171m²   Added 7 hours ago   \n",
      "2     178.182143       NaN            NaN  Added 22 hours ago   \n",
      "3     178.182143       NaN            NaN     Added yesterday   \n",
      "4     201.000000       NaN          201m²     Added yesterday   \n",
      "\n",
      "                                    listing_agency  ...  state  zip_code  \\\n",
      "0                      Professionals - DARWIN CITY  ...     NT       800   \n",
      "1  Nick Mousellis Real Estate - Eview Group Member  ...     NT       800   \n",
      "2                Habitat Real Estate - THE GARDENS  ...     NT       800   \n",
      "3                           Ray White - NIGHTCLIFF  ...     NT       800   \n",
      "4              Carol Need Real Estate - Fannie Bay  ...     NT       800   \n",
      "\n",
      "          phone latitude longitude product_depth bedroom_count bathroom_count  \\\n",
      "0  08 8941 8289      NaN       NaN      premiere           2.0            1.0   \n",
      "1    0411724000      NaN       NaN      premiere           3.0            2.0   \n",
      "2  08 8981 0080      NaN       NaN      premiere           2.0            1.0   \n",
      "3  08 8982 2403      NaN       NaN      premiere           1.0            1.0   \n",
      "4    0418885966      NaN       NaN      premiere           3.0            2.0   \n",
      "\n",
      "   parking_count              RunDate  \n",
      "0            1.0  2022-05-27 15:54:05  \n",
      "1            2.0  2022-05-27 15:54:05  \n",
      "2            1.0  2022-05-27 15:54:05  \n",
      "3            0.0  2022-05-27 15:54:05  \n",
      "4            2.0  2022-05-27 15:54:05  \n",
      "\n",
      "[5 rows x 27 columns]\n"
     ]
    }
   ],
   "source": [
    "import pandas as pd\n",
    "import numpy as np\n",
    "\n",
    "# Load the data\n",
    "housing_data = pd.read_csv(\"RealEstateAU_1000_Samples.csv\")\n",
    "\n",
    "# Clean the 'building_size' column by removing non-numeric characters\n",
    "housing_data['building_size'] = housing_data['building_size'].str.extract('(\\d+)').astype(float)\n",
    "\n",
    "# Clean the 'price' column by extracting numeric values and converting to float\n",
    "housing_data['price'] = housing_data['price'].str.replace('[^\\d.]', '', regex=True)\n",
    "housing_data['price'] = pd.to_numeric(housing_data['price'], errors='coerce')\n",
    "\n",
    "# Fill NaNs in 'building_size' with the mean of the column\n",
    "housing_data['building_size'].fillna(housing_data['building_size'].mean(), inplace=True)\n",
    "\n",
    "# Drop rows with NaNs in 'price', 'bedroom_count' and 'bathroom_count'\n",
    "housing_data = housing_data.dropna(subset=['price', 'bedroom_count', 'bathroom_count'])\n",
    "\n",
    "# Verify the changes\n",
    "print(housing_data.isnull().sum())\n",
    "print(housing_data.head())\n"
   ]
  },
  {
   "cell_type": "markdown",
   "id": "61317d9a",
   "metadata": {},
   "source": [
    "## Data Processing "
   ]
  },
  {
   "cell_type": "code",
   "execution_count": 26,
   "id": "4165d339",
   "metadata": {},
   "outputs": [],
   "source": [
    "from sklearn.model_selection import train_test_split\n",
    "from sklearn.linear_model import LinearRegression\n",
    "from sklearn.metrics import mean_squared_error\n",
    "\n",
    "# Selecting relevant features and target variable\n",
    "X = housing_data[['bedroom_count', 'bathroom_count', 'building_size']]\n",
    "y = housing_data['price']\n",
    "\n",
    "# Split the data into training and testing sets\n",
    "X_train, X_test, y_train, y_test = train_test_split(X, y, test_size=0.2, random_state=42)\n"
   ]
  },
  {
   "cell_type": "markdown",
   "id": "ee6f3550",
   "metadata": {},
   "source": [
    "## Modeling and Prediction"
   ]
  },
  {
   "cell_type": "code",
   "execution_count": 27,
   "id": "ceab361c",
   "metadata": {},
   "outputs": [
    {
     "name": "stdout",
     "output_type": "stream",
     "text": [
      "Mean Squared Error: 7.480008279983587e+19\n",
      "       Actual     Predicted\n",
      "787  635000.0  1.261123e+10\n",
      "330  570000.0  1.415015e+10\n",
      "873  560000.0  1.834317e+10\n",
      "92   219000.0  1.188620e+09\n",
      "262  419000.0  6.879287e+09\n"
     ]
    }
   ],
   "source": [
    "# Create and train the linear regression model\n",
    "model = LinearRegression()\n",
    "model.fit(X_train, y_train)\n",
    "\n",
    "# Make predictions\n",
    "y_pred = model.predict(X_test)\n",
    "\n",
    "# Calculate and print the mean squared error\n",
    "mse = mean_squared_error(y_test, y_pred)\n",
    "print(f\"Mean Squared Error: {mse}\")\n",
    "\n",
    "# Display the first few rows of predictions\n",
    "predictions = pd.DataFrame({'Actual': y_test, 'Predicted': y_pred})\n",
    "print(predictions.head())\n"
   ]
  },
  {
   "cell_type": "markdown",
   "id": "4f741460",
   "metadata": {},
   "source": [
    "## Significance of Mean Squared Error (MSE) and Prediction Results\n",
    "## Mean Squared Error (MSE)\n",
    "\n",
    "MSE Value: 7.480008279983587e+19\n",
    "\n",
    "## Significance\n",
    "\n",
    "High MSE Value: The MSE is a measure of the average squared differences between the actual and predicted values. A higher MSE indicates that there is a large discrepancy between the model's predictions and the actual values.\n",
    "\n",
    "Implication: An MSE this large suggests our model is performing poorly and is not accurately predicting housing prices. It indicates that our model's predictions are far from the actual values\n"
   ]
  },
  {
   "cell_type": "markdown",
   "id": "79b275d3",
   "metadata": {},
   "source": [
    "## Graph of Actual vs. Predicted Prices"
   ]
  },
  {
   "cell_type": "code",
   "execution_count": 29,
   "id": "98928c2c",
   "metadata": {},
   "outputs": [
    {
     "name": "stdout",
     "output_type": "stream",
     "text": [
      "       Actual     Predicted\n",
      "787  635000.0  1.261123e+10\n",
      "330  570000.0  1.415015e+10\n",
      "873  560000.0  1.834317e+10\n",
      "92   219000.0  1.188620e+09\n",
      "262  419000.0  6.879287e+09\n"
     ]
    }
   ],
   "source": [
    "import pandas as pd\n",
    "\n",
    "# DataFrame with Actual and Predicted Prices\n",
    "predictions = pd.DataFrame({'Actual': y_test, 'Predicted': y_pred})\n",
    "\n",
    "# Display the table\n",
    "print(predictions.head())\n"
   ]
  },
  {
   "cell_type": "markdown",
   "id": "8907b2e2",
   "metadata": {},
   "source": [
    "## Significance:\n",
    "\n",
    "Large Discrepancy: The predicted prices are magnitudes higher than the actual prices, which aligns with the high MSE value. This suggests that the model is not capturing the relationship between the features and the target variable correctly.\n",
    "\n",
    "## Potential Issues\n",
    "\n",
    "Feature Selection: The features selected (bedroom_count, bathroom_count, building_size) might not be sufficient to predict the housing prices accurately. Additional features or more relevant features might be needed.\n",
    "\n",
    "Data Quality: There might still be underlying data issues, such as incorrect or unrepresentative values, which could be affecting the model's performance.\n",
    "\n",
    "Model Complexity: A simple linear regression might not be sufficient to capture the complexity of housing prices. More sophisticated models like Random Forests, Gradient Boosting, or even Neural Networks might be needed."
   ]
  },
  {
   "cell_type": "code",
   "execution_count": 28,
   "id": "2ba4fe79",
   "metadata": {},
   "outputs": [
    {
     "data": {
      "image/png": "[encoded data removed]",
      "text/plain": [
       "<Figure size 1000x600 with 1 Axes>"
      ]
     },
     "metadata": {},
     "output_type": "display_data"
    }
   ],
   "source": [
    "import matplotlib.pyplot as plt\n",
    "import pandas as pd\n",
    "\n",
    "# DataFrame with Actual and Predicted Prices\n",
    "predictions = pd.DataFrame({'Actual': y_test, 'Predicted': y_pred})\n",
    "\n",
    "# Plot the graph\n",
    "plt.figure(figsize=(10, 6))\n",
    "plt.scatter(predictions.index, predictions['Actual'], color='blue', label='Actual')\n",
    "plt.scatter(predictions.index, predictions['Predicted'], color='red', label='Predicted')\n",
    "plt.title('Actual vs. Predicted Housing Prices')\n",
    "plt.xlabel('Index')\n",
    "plt.ylabel('Price')\n",
    "plt.legend()\n",
    "plt.show()\n"
   ]
  },
  {
   "cell_type": "markdown",
   "id": "aa764503",
   "metadata": {},
   "source": [
    "\n",
    "\n",
    "The graph displays a scatter plot comparing the #Actual housing prices (in blue) versus the Predicted housing prices (in red).\n",
    "\n",
    "## Significance\n",
    "## Visual Representation:\n",
    "\n",
    "Actual Prices: These blue points represent the true market prices of the houses in our testing set.\n",
    "\n",
    "Predicted Prices: These red points represent the prices predicted by our linear regression model.\n",
    "\n",
    "## Comparison:\n",
    "\n",
    "The closeness of the red points to the blue points shows how accurate our model is. In an ideal model, the red and blue points would overlap, indicating perfect predictions.\n",
    "\n",
    "In our graph, the large disparity between the actual and predicted prices suggests that our model is not performing well. The predicted prices are significantly higher than the actual prices.\n",
    "\n",
    "## Model Evaluation:\n",
    "\n",
    "The graph helps visually diagnose the model's performance.\n",
    "\n",
    "Significant deviations indicate potential issues in feature selection, data quality, or model complexity.\n",
    "\n",
    "## Insights:\n",
    "\n",
    "Outliers and Errors: Identifying where the predictions deviate the most can provide insights into which houses (or types of houses) the model is struggling to predict accurately.\n",
    "\n",
    "Improvement Areas: The substantial overestimations suggest that we may need to revisit our data preprocessing steps, consider additional features, or perhaps use a more complex model.\n",
    "\n",
    "## Conclusion:\n",
    "This graph is crucial in visually assessing the performance of our linear regression model. While the significant errors suggest our current model isn't reliable for predicting housing prices, it also highlights the areas we need to focus on for improvement, such as better data cleaning and feature selection.\n",
    "\n",
    "The process of continuous refinement is essential in creating a robust predictive model. "
   ]
  },
  {
   "cell_type": "code",
   "execution_count": null,
   "id": "c175bb64",
   "metadata": {},
   "outputs": [],
   "source": []
  }
 ],
 "metadata": {
  "kernelspec": {
   "display_name": "Python 3 (ipykernel)",
   "language": "python",
   "name": "python3"
  },
  "language_info": {
   "codemirror_mode": {
    "name": "ipython",
    "version": 3
   },
   "file_extension": ".py",
   "mimetype": "text/x-python",
   "name": "python",
   "nbconvert_exporter": "python",
   "pygments_lexer": "ipython3",
   "version": "3.11.5"
  }
 },
 "nbformat": 4,
 "nbformat_minor": 5
}
